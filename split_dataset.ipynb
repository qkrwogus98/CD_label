{
 "cells": [
  {
   "cell_type": "code",
   "execution_count": 45,
   "id": "71110b56",
   "metadata": {},
   "outputs": [],
   "source": [
    "import os\n",
    "import shutil\n",
    "from collections import defaultdict\n",
    "\n",
    "import pandas as pd\n",
    "from iterstrat.ml_stratifiers import MultilabelStratifiedShuffleSplit"
   ]
  },
  {
   "cell_type": "code",
   "execution_count": 46,
   "id": "c3bd45b3",
   "metadata": {},
   "outputs": [],
   "source": [
    "BASE_LABEL_DIRS = [\n",
    "    \"/home/jaehyeonpark/data_labels/1/label_stats\",\n",
    "    \"/home/jaehyeonpark/data_labels/2/label_stats\",\n",
    "    \"/home/jaehyeonpark/data_labels/3/label_stats\",\n",
    "    \"/home/jaehyeonpark/data_labels/4/label_stats\",\n",
    "    \"/home/jaehyeonpark/data_labels/5/label_stats\",\n",
    "    \"/home/jaehyeonpark/data_labels/6/label_stats\",\n",
    "]"
   ]
  },
  {
   "cell_type": "code",
   "execution_count": 47,
   "id": "0ab631d6",
   "metadata": {},
   "outputs": [],
   "source": [
    "SRC_ROOT = \"/home/jaehyeonpark/Downloads/slope_cd\""
   ]
  },
  {
   "cell_type": "code",
   "execution_count": 48,
   "id": "17c4f9ac",
   "metadata": {},
   "outputs": [],
   "source": [
    "DST_ROOT = \"/home/jaehyeonpark/Downloads/preprocessed_cd\""
   ]
  },
  {
   "cell_type": "code",
   "execution_count": 49,
   "id": "c7489b12",
   "metadata": {},
   "outputs": [],
   "source": [
    "TRAIN_RATIO = 0.8\n",
    "RND_STATE   = 42"
   ]
  },
  {
   "cell_type": "code",
   "execution_count": 50,
   "id": "ce03b674",
   "metadata": {},
   "outputs": [],
   "source": [
    "def collect_classes(label_dirs):\n",
    "    \"\"\"모든 label_stats 폴더에서 클래스 이름(확장자 제거) 수집\"\"\"\n",
    "    classes = set()\n",
    "    for d in label_dirs:\n",
    "        for fn in os.listdir(d):\n",
    "            if fn.lower().endswith(\".txt\"):\n",
    "                classes.add(os.path.splitext(fn)[0])\n",
    "    return sorted(classes)\n",
    "\n",
    "\n",
    "def build_multilabel_df(label_dirs, classes):\n",
    "    \"\"\"\n",
    "    label_dirs: 리스트 of \".../label_stats\"\n",
    "    classes: ['사람','돌',...]\n",
    "    return: DataFrame ['filename'] + [클래스별 0/1]\n",
    "    \"\"\"\n",
    "    file2cls = defaultdict(set)\n",
    "    for d in label_dirs:\n",
    "        for fn in os.listdir(d):\n",
    "            if not fn.lower().endswith(\".txt\"): continue\n",
    "            cls = os.path.splitext(fn)[0]\n",
    "            with open(os.path.join(d,fn), encoding=\"utf-8\") as f:\n",
    "                for line in f:\n",
    "                    img = line.strip()\n",
    "                    if img:\n",
    "                        file2cls[img].add(cls)\n",
    "\n",
    "    rows = []\n",
    "    for img, cls_set in file2cls.items():\n",
    "        row = {\"filename\": img}\n",
    "        for cls in classes:\n",
    "            row[cls] = 1 if cls in cls_set else 0\n",
    "        rows.append(row)\n",
    "    return pd.DataFrame(rows)\n",
    "\n",
    "def stratified_split(df, classes):\n",
    "    \"\"\"\n",
    "    Multi‐label Stratified Split (Train:Test = 8:2)\n",
    "    \"\"\"\n",
    "    msss = MultilabelStratifiedShuffleSplit(\n",
    "        n_splits=1,\n",
    "        train_size=TRAIN_RATIO,        # 0.8\n",
    "        test_size=1.0 - TRAIN_RATIO,   # 0.2\n",
    "        random_state=RND_STATE\n",
    "    )\n",
    "    X = df[\"filename\"].values\n",
    "    Y = df[classes].values\n",
    "    train_idx, test_idx = next(msss.split(X, Y))\n",
    "\n",
    "    train_df = df.iloc[train_idx].reset_index(drop=True)\n",
    "    test_df  = df.iloc[test_idx].reset_index(drop=True)\n",
    "    return train_df, test_df\n",
    "\n",
    "def print_dist(df, classes, name):\n",
    "    total = len(df)\n",
    "    print(f\"\\n-- {name} 분포: 총 {total}장 --\")\n",
    "    for cls in classes:\n",
    "        cnt = int(df[cls].sum())\n",
    "        print(f\" {cls:8s}: {cnt:5d}장 ({cnt/total*100:5.2f}%)\")\n",
    "\n",
    "\n",
    "def make_split_dirs(dst_root, split):\n",
    "    \"\"\"dst_root/{split}/T1, T2, GT, label_stats 생성\"\"\"\n",
    "    for sub in (\"T1\",\"T2\",\"GT\",\"label_stats\"):\n",
    "        os.makedirs(os.path.join(dst_root, split, sub), exist_ok=True)\n",
    "\n",
    "\n",
    "def copy_images_and_make_txt(df_split, classes, split):\n",
    "    \"\"\"\n",
    "    1) train.txt/test.txt 생성 (basename)\n",
    "    2) 이미지 복사 (T1,T2,GT)\n",
    "       → GT 폴더는 .png가 없으면 .jpg/.jpeg로도 검색\n",
    "    3) label_stats/*.txt 생성 (filename 한 줄씩)\n",
    "    \"\"\"\n",
    "    # 1) train.txt or test.txt\n",
    "    list_path = os.path.join(DST_ROOT, f\"{split}.txt\")\n",
    "    with open(list_path, \"w\", encoding=\"utf-8\") as lf:\n",
    "        for fn in df_split[\"filename\"]:\n",
    "            basename = os.path.splitext(fn)[0]\n",
    "            lf.write(basename + \"\\n\")\n",
    "\n",
    "    # 2) 이미지 복사\n",
    "    for fn in df_split[\"filename\"]:\n",
    "        basename = os.path.splitext(fn)[0]\n",
    "\n",
    "        # T1, T2는 항상 .png\n",
    "        for sub in (\"T1\", \"T2\"):\n",
    "            src = os.path.join(SRC_ROOT, sub, basename + \".png\")\n",
    "            if not os.path.isfile(src):\n",
    "                raise FileNotFoundError(f\"{src}가 없습니다.\")\n",
    "            dst = os.path.join(DST_ROOT, split, sub, basename + \".png\")\n",
    "            shutil.copy(src, dst)\n",
    "\n",
    "        # GT: .png → .jpg → .jpeg 순으로 찾아서 복사\n",
    "        gt_src = None\n",
    "        for ext in (\".png\", \".jpg\", \".jpeg\"):\n",
    "            candidate = os.path.join(SRC_ROOT, \"GT\", basename + ext)\n",
    "            if os.path.isfile(candidate):\n",
    "                gt_src = candidate\n",
    "                break\n",
    "        if gt_src is None:\n",
    "            raise FileNotFoundError(f\"GT 이미지({basename}.png/.jpg/.jpeg) 중 하나도 찾을 수 없습니다.\")\n",
    "        gt_dst = os.path.join(DST_ROOT, split, \"GT\", os.path.basename(gt_src))\n",
    "        shutil.copy(gt_src, gt_dst)\n",
    "\n",
    "    # 3) label_stats/*.txt 작성\n",
    "    for cls in classes:\n",
    "        out_path = os.path.join(DST_ROOT, split, \"label_stats\", f\"{cls}.txt\")\n",
    "        with open(out_path, \"w\", encoding=\"utf-8\") as cf:\n",
    "            for fn in df_split[df_split[cls] == 1][\"filename\"]:\n",
    "                cf.write(fn + \"\\n\")\n"
   ]
  },
  {
   "cell_type": "code",
   "execution_count": 51,
   "id": "05f5d0fd",
   "metadata": {},
   "outputs": [
    {
     "name": "stdout",
     "output_type": "stream",
     "text": [
      "Classes: ['나무', '돌', '물', '변화없음', '사람', '흙']\n"
     ]
    }
   ],
   "source": [
    " # 클래스 목록\n",
    "classes = collect_classes(BASE_LABEL_DIRS)\n",
    "print(\"Classes:\", classes)\n"
   ]
  },
  {
   "cell_type": "code",
   "execution_count": 52,
   "id": "a0f05cf6",
   "metadata": {},
   "outputs": [
    {
     "name": "stdout",
     "output_type": "stream",
     "text": [
      "총 고유 이미지: 6639장\n"
     ]
    }
   ],
   "source": [
    "df = build_multilabel_df(BASE_LABEL_DIRS, classes)\n",
    "print(f\"총 고유 이미지: {len(df)}장\")"
   ]
  },
  {
   "cell_type": "code",
   "execution_count": 53,
   "id": "783eda81",
   "metadata": {},
   "outputs": [
    {
     "name": "stdout",
     "output_type": "stream",
     "text": [
      "\n",
      "-- Train 분포: 총 5304장 --\n",
      " 나무    :   150장 ( 2.83%)\n",
      " 돌     :  1027장 (19.36%)\n",
      " 물     :   474장 ( 8.94%)\n",
      " 변화없음:   190장 ( 3.58%)\n",
      " 사람   :  4550장 (85.78%)\n",
      " 흙     :   636장 (11.99%)\n",
      "\n",
      "-- Test 분포: 총 1335장 --\n",
      " 나무    :    37장 ( 2.77%)\n",
      " 돌     :   257장 (19.25%)\n",
      " 물     :   119장 ( 8.91%)\n",
      " 변화없음:    47장 ( 3.52%)\n",
      " 사람   :  1138장 (85.24%)\n",
      " 흙     :   159장 (11.91%)\n"
     ]
    }
   ],
   "source": [
    "train_df, test_df = stratified_split(df, classes)\n",
    "print_dist(train_df, classes, \"Train\")\n",
    "print_dist(test_df,  classes, \"Test\")"
   ]
  },
  {
   "cell_type": "code",
   "execution_count": 54,
   "id": "de3f0ed0",
   "metadata": {},
   "outputs": [],
   "source": [
    "for split in (\"train\",\"test\"):\n",
    "    make_split_dirs(DST_ROOT, split)"
   ]
  },
  {
   "cell_type": "code",
   "execution_count": 55,
   "id": "64884588",
   "metadata": {},
   "outputs": [
    {
     "name": "stdout",
     "output_type": "stream",
     "text": [
      "\n",
      "✅ 데이터셋 준비 완료! /home/jaehyeonpark/Downloads/preprocessed_cd\n"
     ]
    }
   ],
   "source": [
    "copy_images_and_make_txt(train_df, classes, \"train\")\n",
    "copy_images_and_make_txt(test_df,  classes, \"test\")\n",
    "\n",
    "print(\"\\n✅ 데이터셋 준비 완료!\", DST_ROOT)"
   ]
  },
  {
   "cell_type": "code",
   "execution_count": null,
   "id": "3403a29d",
   "metadata": {},
   "outputs": [],
   "source": []
  }
 ],
 "metadata": {
  "kernelspec": {
   "display_name": "cdlabel",
   "language": "python",
   "name": "python3"
  },
  "language_info": {
   "codemirror_mode": {
    "name": "ipython",
    "version": 3
   },
   "file_extension": ".py",
   "mimetype": "text/x-python",
   "name": "python",
   "nbconvert_exporter": "python",
   "pygments_lexer": "ipython3",
   "version": "3.12.9"
  }
 },
 "nbformat": 4,
 "nbformat_minor": 5
}
