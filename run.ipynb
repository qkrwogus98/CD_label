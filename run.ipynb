{
 "cells": [
  {
   "cell_type": "code",
   "execution_count": 6,
   "id": "8f87ab34",
   "metadata": {},
   "outputs": [
    {
     "name": "stdout",
     "output_type": "stream",
     "text": [
      "6개의 배치 폴더로 정렬된 이미지가 저장되었습니다.\n"
     ]
    }
   ],
   "source": [
    "import os\n",
    "import shutil\n",
    "\n",
    "def split_images_by_numbered_filename(source_folder, dest_base_folder, batch_size=600):\n",
    "    # 숫자 기반으로 정렬: '1.png', '2.png', ..., '1000.png' 와 같은 형식\n",
    "    images = [f for f in os.listdir(source_folder) if f.lower().endswith('.png')]\n",
    "    \n",
    "    # 파일명을 숫자로 정렬 (예: '10.png'가 '2.png'보다 뒤로 오게)\n",
    "    images = sorted(images, key=lambda x: int(os.path.splitext(x)[0]))\n",
    "\n",
    "    total_batches = (len(images) + batch_size - 1) // batch_size  # 배치 수 계산\n",
    "\n",
    "    for i in range(total_batches):\n",
    "        batch_folder = os.path.join(dest_base_folder, f\"batch_{i+1}\")\n",
    "        os.makedirs(batch_folder, exist_ok=True)\n",
    "\n",
    "        start_idx = i * batch_size\n",
    "        end_idx = min((i+1) * batch_size, len(images))\n",
    "        batch_images = images[start_idx:end_idx]\n",
    "\n",
    "        for img_name in batch_images:\n",
    "            src_path = os.path.join(source_folder, img_name)\n",
    "            dst_path = os.path.join(batch_folder, img_name)\n",
    "            shutil.copy2(src_path, dst_path)  # 파일 복사\n",
    "\n",
    "    print(f\"{total_batches}개의 배치 폴더로 정렬된 이미지가 저장되었습니다.\")\n",
    "\n",
    "# 사용 예시\n",
    "source = \"/Users/henry98/Downloads/z/before\"         # 원본 이미지가 들어있는 폴더 경로\n",
    "destination = \"/Users/henry98/Downloads/z\" # 배치 폴더들이 생성될 상위 폴더 경로\n",
    "\n",
    "split_images_by_numbered_filename(source, destination, batch_size=600)"
   ]
  },
  {
   "cell_type": "code",
   "execution_count": null,
   "id": "6c6a8174",
   "metadata": {},
   "outputs": [],
   "source": []
  }
 ],
 "metadata": {
  "kernelspec": {
   "display_name": "cdlabel",
   "language": "python",
   "name": "python3"
  },
  "language_info": {
   "codemirror_mode": {
    "name": "ipython",
    "version": 3
   },
   "file_extension": ".py",
   "mimetype": "text/x-python",
   "name": "python",
   "nbconvert_exporter": "python",
   "pygments_lexer": "ipython3",
   "version": "3.12.9"
  }
 },
 "nbformat": 4,
 "nbformat_minor": 5
}
